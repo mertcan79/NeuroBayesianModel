{
 "cells": [
  {
   "cell_type": "code",
   "execution_count": 1,
   "metadata": {},
   "outputs": [],
   "source": [
    "%load_ext autoreload\n",
    "%autoreload 2\n",
    "\n",
    "import sys\n",
    "import os\n",
    "\n",
    "# Add the parent directory to sys.path\n",
    "notebook_dir = os.path.abspath('')\n",
    "project_dir = os.path.dirname(notebook_dir)\n",
    "sys.path.append(project_dir)\n",
    "\n",
    "import pandas as pd\n",
    "import numpy as np\n",
    "import matplotlib.pyplot as plt\n",
    "import logging\n",
    "from scipy import stats\n",
    "import json\n",
    "from datetime import datetime\n",
    "from joblib import parallel_backend\n",
    "\n",
    "\n",
    "from src.bayesian_network import BayesianNetwork\n",
    "\n",
    "logging.basicConfig(level=logging.ERROR)\n",
    "logger = logging.getLogger(__name__)\n",
    "\n",
    "pd.set_option('display.max_columns', None)\n",
    "pd.set_option('display.max_rows', None)\n",
    "\n",
    "from src.data_processing import prepare_data"
   ]
  },
  {
   "cell_type": "code",
   "execution_count": 2,
   "metadata": {},
   "outputs": [],
   "source": [
    "import os\n",
    "import sys\n",
    "from dotenv import load_dotenv\n",
    "load_dotenv()\n",
    "\n",
    "# Determine environment and data path\n",
    "environment = os.getenv('ENVIRONMENT', 'local')\n",
    "data_path = os.getenv('LOCAL_DATA_PATH') if environment == 'local' else os.getenv('CLOUD_DATA_PATH')\n",
    "\n",
    "# File paths\n",
    "behavioral_path = os.path.join(data_path, 'connectome_behavioral.csv')\n",
    "hcp_path = os.path.join(data_path, 'hcp_freesurfer.csv')"
   ]
  },
  {
   "cell_type": "code",
   "execution_count": 3,
   "metadata": {},
   "outputs": [],
   "source": [
    "categorical_columns_hcp = ['Gender', 'MMSE_Score', 'Age']\n",
    "\n",
    "behavioral_features = [\n",
    "    'Subject', 'Age', 'Gender', 'CogFluidComp_Unadj', 'CogCrystalComp_Unadj', 'MMSE_Score',\n",
    "    'NEOFAC_O', 'NEOFAC_C', 'ProcSpeed_Unadj', 'CardSort_Unadj', 'PicVocab_Unadj', 'ReadEng_Unadj'\n",
    "]\n",
    "\n",
    "hcp_features = [\n",
    "    'Subject', 'FS_TotCort_GM_Vol', 'FS_SubCort_GM_Vol', 'FS_Total_GM_Vol', 'FS_Tot_WM_Vol', 'FS_BrainStem_Vol',\n",
    "    'FS_L_Hippo_Vol', 'FS_R_Hippo_Vol', 'FS_L_Amygdala_Vol', 'FS_R_Amygdala_Vol',\n",
    "    'FS_L_Caudate_Vol', 'FS_R_Caudate_Vol', 'FS_L_Putamen_Vol', 'FS_R_Putamen_Vol',\n",
    "]\n",
    "\n",
    "categorical_columns = ['Gender', 'MMSE_Score', 'Age']\n",
    "\n",
    "prior_edges = [\n",
    "    ('Age', 'CogFluidComp_Unadj'),\n",
    "    ('Age', 'CogCrystalComp_Unadj'),\n",
    "    ('Age', 'MMSE_Score'),\n",
    "    ('Gender', 'CogFluidComp_Unadj'),\n",
    "    ('Gender', 'CogCrystalComp_Unadj'),\n",
    "    ('MMSE_Score', 'CogFluidComp_Unadj'),\n",
    "    ('MMSE_Score', 'CogCrystalComp_Unadj'),\n",
    "    ('FS_Total_GM_Vol', 'CogFluidComp_Unadj'),\n",
    "    ('FS_Total_GM_Vol', 'CogCrystalComp_Unadj'),\n",
    "    ('FS_Tot_WM_Vol', 'CogFluidComp_Unadj'),\n",
    "    ('FS_Tot_WM_Vol', 'CogCrystalComp_Unadj'),\n",
    "    ('FS_L_Hippo_Vol', 'CogFluidComp_Unadj'),\n",
    "    ('FS_R_Hippo_Vol', 'CogFluidComp_Unadj'),\n",
    "    ('FS_L_Amygdala_Vol', 'NEOFAC_O'),\n",
    "    ('FS_R_Amygdala_Vol', 'NEOFAC_O'),\n",
    "    ('NEOFAC_O', 'CogCrystalComp_Unadj'),\n",
    "    ('NEOFAC_C', 'CogFluidComp_Unadj'),\n",
    "    ('FS_L_Hippo_Vol', 'NEOFAC_O'),\n",
    "    ('FS_R_Hippo_Vol', 'NEOFAC_O'),\n",
    "]"
   ]
  },
  {
   "cell_type": "code",
   "execution_count": 4,
   "metadata": {},
   "outputs": [],
   "source": [
    "data, categorical_columns, categories = prepare_data(\n",
    "    behavioral_path=behavioral_path,\n",
    "    hcp_path=hcp_path,\n",
    "    behavioral_features=behavioral_features,\n",
    "    hcp_features=hcp_features,\n",
    "    categorical_columns=categorical_columns_hcp\n",
    "    )\n",
    "\n",
    "data = data.sample(n=200, random_state=42) "
   ]
  },
  {
   "cell_type": "code",
   "execution_count": 5,
   "metadata": {},
   "outputs": [
    {
     "name": "stderr",
     "output_type": "stream",
     "text": [
      "INFO:src.bayesian_network:Learning structure\n",
      "INFO:src.structure_learning:Starting structure learning with max_parents=2, iterations=100\n"
     ]
    },
    {
     "data": {
      "application/vnd.jupyter.widget-view+json": {
       "model_id": "5fe58d170ca6466498b5a1c7346872f3",
       "version_major": 2,
       "version_minor": 0
      },
      "text/plain": [
       "  0%|          | 0/100 [00:00<?, ?it/s]"
      ]
     },
     "metadata": {},
     "output_type": "display_data"
    },
    {
     "name": "stderr",
     "output_type": "stream",
     "text": [
      "INFO:src.structure_learning:Structure learning complete. Learned 24 nodes and 19 edges.\n",
      "INFO:src.bayesian_network:Fitting parameters\n",
      "INFO:src.bayesian_network:Learning structure\n",
      "INFO:src.structure_learning:Starting structure learning with max_parents=2, iterations=100\n"
     ]
    },
    {
     "name": "stdout",
     "output_type": "stream",
     "text": [
      "Warning: Node CogFluidComp_Unadj has 8 parents. Limiting to 2.\n",
      "Warning: Node CogCrystalComp_Unadj has 6 parents. Limiting to 2.\n",
      "Warning: Node NEOFAC_O has 4 parents. Limiting to 2.\n",
      "Parameter fitting complete.\n",
      "Fitting done.\n"
     ]
    },
    {
     "data": {
      "application/vnd.jupyter.widget-view+json": {
       "model_id": "bd063fdd5cea4cf4ab09f1f7b28c92dd",
       "version_major": 2,
       "version_minor": 0
      },
      "text/plain": [
       "  0%|          | 0/100 [00:00<?, ?it/s]"
      ]
     },
     "metadata": {},
     "output_type": "display_data"
    },
    {
     "name": "stderr",
     "output_type": "stream",
     "text": [
      "INFO:src.structure_learning:Structure learning complete. Learned 24 nodes and 0 edges.\n",
      "INFO:src.bayesian_network:Fitting parameters\n",
      "INFO:src.bayesian_network:Learning structure\n",
      "INFO:src.structure_learning:Starting structure learning with max_parents=2, iterations=100\n"
     ]
    },
    {
     "name": "stdout",
     "output_type": "stream",
     "text": [
      "Parameter fitting complete.\n"
     ]
    },
    {
     "data": {
      "application/vnd.jupyter.widget-view+json": {
       "model_id": "6e258de87644474695729e32312aa9a3",
       "version_major": 2,
       "version_minor": 0
      },
      "text/plain": [
       "  0%|          | 0/100 [00:00<?, ?it/s]"
      ]
     },
     "metadata": {},
     "output_type": "display_data"
    },
    {
     "name": "stderr",
     "output_type": "stream",
     "text": [
      "INFO:src.structure_learning:Structure learning complete. Learned 24 nodes and 0 edges.\n",
      "INFO:src.bayesian_network:Fitting parameters\n",
      "INFO:src.bayesian_network:Learning structure\n",
      "INFO:src.structure_learning:Starting structure learning with max_parents=2, iterations=100\n"
     ]
    },
    {
     "name": "stdout",
     "output_type": "stream",
     "text": [
      "Parameter fitting complete.\n"
     ]
    },
    {
     "data": {
      "application/vnd.jupyter.widget-view+json": {
       "model_id": "92803c9f261f4a83a7f4fccb40106b3d",
       "version_major": 2,
       "version_minor": 0
      },
      "text/plain": [
       "  0%|          | 0/100 [00:00<?, ?it/s]"
      ]
     },
     "metadata": {},
     "output_type": "display_data"
    },
    {
     "name": "stderr",
     "output_type": "stream",
     "text": [
      "INFO:src.structure_learning:Structure learning complete. Learned 24 nodes and 0 edges.\n",
      "INFO:src.bayesian_network:Fitting parameters\n",
      "INFO:src.bayesian_network:Learning structure\n",
      "INFO:src.structure_learning:Starting structure learning with max_parents=2, iterations=100\n"
     ]
    },
    {
     "name": "stdout",
     "output_type": "stream",
     "text": [
      "Parameter fitting complete.\n"
     ]
    },
    {
     "data": {
      "application/vnd.jupyter.widget-view+json": {
       "model_id": "1069357c063744f08e4ae258c82dd6b7",
       "version_major": 2,
       "version_minor": 0
      },
      "text/plain": [
       "  0%|          | 0/100 [00:00<?, ?it/s]"
      ]
     },
     "metadata": {},
     "output_type": "display_data"
    },
    {
     "name": "stderr",
     "output_type": "stream",
     "text": [
      "INFO:src.structure_learning:Structure learning complete. Learned 24 nodes and 0 edges.\n",
      "INFO:src.bayesian_network:Fitting parameters\n"
     ]
    },
    {
     "name": "stdout",
     "output_type": "stream",
     "text": [
      "Parameter fitting complete.\n"
     ]
    },
    {
     "name": "stderr",
     "output_type": "stream",
     "text": [
      "INFO:src.bayesian_network:Learning structure\n",
      "INFO:src.structure_learning:Starting structure learning with max_parents=2, iterations=100\n"
     ]
    },
    {
     "data": {
      "application/vnd.jupyter.widget-view+json": {
       "model_id": "5f3ef9e29cfb476694d0047e678de1ad",
       "version_major": 2,
       "version_minor": 0
      },
      "text/plain": [
       "  0%|          | 0/100 [00:00<?, ?it/s]"
      ]
     },
     "metadata": {},
     "output_type": "display_data"
    },
    {
     "name": "stderr",
     "output_type": "stream",
     "text": [
      "INFO:src.structure_learning:Structure learning complete. Learned 24 nodes and 0 edges.\n",
      "INFO:src.bayesian_network:Fitting parameters\n",
      "INFO:src.bayesian_network:Learning structure\n",
      "INFO:src.structure_learning:Starting structure learning with max_parents=2, iterations=100\n"
     ]
    },
    {
     "name": "stdout",
     "output_type": "stream",
     "text": [
      "Parameter fitting complete.\n"
     ]
    },
    {
     "data": {
      "application/vnd.jupyter.widget-view+json": {
       "model_id": "768068a5e4c54f798b929e65d071df76",
       "version_major": 2,
       "version_minor": 0
      },
      "text/plain": [
       "  0%|          | 0/100 [00:00<?, ?it/s]"
      ]
     },
     "metadata": {},
     "output_type": "display_data"
    },
    {
     "name": "stderr",
     "output_type": "stream",
     "text": [
      "INFO:src.structure_learning:Structure learning complete. Learned 24 nodes and 0 edges.\n",
      "INFO:src.bayesian_network:Fitting parameters\n",
      "INFO:src.bayesian_network:Learning structure\n"
     ]
    },
    {
     "name": "stdout",
     "output_type": "stream",
     "text": [
      "Parameter fitting complete.\n"
     ]
    },
    {
     "name": "stderr",
     "output_type": "stream",
     "text": [
      "INFO:src.structure_learning:Starting structure learning with max_parents=2, iterations=100\n"
     ]
    },
    {
     "data": {
      "application/vnd.jupyter.widget-view+json": {
       "model_id": "895a6250e5c6494a91d7c57954bfc9e6",
       "version_major": 2,
       "version_minor": 0
      },
      "text/plain": [
       "  0%|          | 0/100 [00:00<?, ?it/s]"
      ]
     },
     "metadata": {},
     "output_type": "display_data"
    },
    {
     "name": "stderr",
     "output_type": "stream",
     "text": [
      "INFO:src.structure_learning:Structure learning complete. Learned 24 nodes and 0 edges.\n",
      "INFO:src.bayesian_network:Fitting parameters\n",
      "INFO:src.bayesian_network:Learning structure\n",
      "INFO:src.structure_learning:Starting structure learning with max_parents=2, iterations=100\n"
     ]
    },
    {
     "name": "stdout",
     "output_type": "stream",
     "text": [
      "Parameter fitting complete.\n"
     ]
    },
    {
     "data": {
      "application/vnd.jupyter.widget-view+json": {
       "model_id": "fa5b2ecd0d504bed9b1f19af01781e47",
       "version_major": 2,
       "version_minor": 0
      },
      "text/plain": [
       "  0%|          | 0/100 [00:00<?, ?it/s]"
      ]
     },
     "metadata": {},
     "output_type": "display_data"
    },
    {
     "name": "stderr",
     "output_type": "stream",
     "text": [
      "INFO:src.structure_learning:Structure learning complete. Learned 24 nodes and 0 edges.\n",
      "INFO:src.bayesian_network:Fitting parameters\n",
      "ERROR:__main__:Error writing detailed results: 'BayesianNetwork' object has no attribute 'y_true'\n",
      "Traceback (most recent call last):\n",
      "  File \"/var/folders/6p/45_nyjf50bxf3qffl5qnk3pw0000gp/T/ipykernel_14505/571128375.py\", line 88, in <module>\n",
      "    bn.write_results_to_json(results, filename=results_filename)\n",
      "  File \"/Users/macbookair/Documents/NeuroBayesianModel/src/bayesian_network.py\", line 125, in write_results_to_json\n",
      "    results[\"performance_metrics\"] = self.get_performance_metrics()\n",
      "                                     ^^^^^^^^^^^^^^^^^^^^^^^^^^^^^^\n",
      "  File \"/Users/macbookair/Documents/NeuroBayesianModel/src/bayesian_network.py\", line 525, in get_performance_metrics\n",
      "    mse = np.mean((self.y_true - self.y_pred)**2)\n",
      "                   ^^^^^^^^^^^\n",
      "AttributeError: 'BayesianNetwork' object has no attribute 'y_true'\n",
      "INFO:__main__:Summary results saved to bayesian_network_summary_20240724_191317.json\n"
     ]
    },
    {
     "name": "stdout",
     "output_type": "stream",
     "text": [
      "Parameter fitting complete.\n",
      "Summary successfully written to logs/bayesian_network_summary_20240724_191317.json\n"
     ]
    }
   ],
   "source": [
    "# Create and fit the Bayesian Network\n",
    "bn = BayesianNetwork(method='hill_climb', max_parents=2, iterations=100, categorical_columns=categorical_columns)\n",
    "try:\n",
    "    with parallel_backend('multiprocessing', n_jobs=-1):\n",
    "        bn.fit(data, prior_edges=prior_edges, )\n",
    "except Exception as e:\n",
    "    logger.error(f\"Error during fitting: {str(e)}\", exc_info=True)\n",
    "finally:\n",
    "    print(\"Fitting done.\")\n",
    "\n",
    "if bn.nodes:\n",
    "    results = {}\n",
    "    results['network_structure'] = bn.explain_structure_extended()\n",
    "\n",
    "    cognitive_measures = ['CogFluidComp_Unadj', 'CogCrystalComp_Unadj']\n",
    "    sensitivity = {measure: bn.compute_sensitivity(measure) for measure in cognitive_measures}\n",
    "    results['sensitivity'] = sensitivity\n",
    "\n",
    "    insights = []\n",
    "    for measure in cognitive_measures:\n",
    "        top_predictors = sorted(sensitivity[measure].items(), key=lambda x: abs(x[1]), reverse=True)[:3]\n",
    "        insight = f\"The top 3 predictors of {measure} are: \" + \", \".join([f\"{pred} (sensitivity: {sens:.3f})\" for pred, sens in top_predictors])\n",
    "        insights.append(insight)\n",
    "\n",
    "    age_effects = bn.nodes['Age'].children\n",
    "    insights.append(\"Age directly influences: \" + \", \".join([child.name for child in age_effects]))\n",
    "\n",
    "    gender_effects = bn.nodes['Gender'].children\n",
    "    insights.append(\"Gender directly influences: \" + \", \".join([child.name for child in gender_effects]))\n",
    "\n",
    "    brain_cognition_edges = [edge for edge in bn.get_edges() if (edge[0].startswith('FS_') and edge[1] in cognitive_measures)]\n",
    "    insights.append(\"Key brain structure-cognition relationships: \" + \", \".join([f\"{edge[0]} → {edge[1]}\" for edge in brain_cognition_edges]))\n",
    "\n",
    "    results['insights'] = insights\n",
    "\n",
    "    # Add new analyses\n",
    "    try:\n",
    "        results['key_relationships'] = bn.get_key_relationships()\n",
    "    except Exception as e:\n",
    "        logger.error(f\"Error getting key relationships: {str(e)}\", exc_info=True)\n",
    "        results['key_relationships'] = [\"Error occurred while getting key relationships.\"]\n",
    "\n",
    "    try:\n",
    "        results['clinical_implications'] = bn.get_clinical_implications()\n",
    "    except Exception as e:\n",
    "        logger.error(f\"Error getting clinical implications: {str(e)}\", exc_info=True)\n",
    "        results['clinical_implications'] = [\"Error occurred while getting clinical implications.\"]\n",
    "\n",
    "    try:\n",
    "        results['novel_insights'] = bn.get_novel_insights()\n",
    "    except Exception as e:\n",
    "        logger.error(f\"Error getting novel insights: {str(e)}\", exc_info=True)\n",
    "        results['novel_insights'] = [\"Error occurred while getting novel insights.\"]\n",
    "\n",
    "    try:\n",
    "        results['age_specific_insights'] = bn.get_age_specific_insights()\n",
    "    except Exception as e:\n",
    "        logger.error(f\"Error getting age-specific insights: {str(e)}\", exc_info=True)\n",
    "        results['age_specific_insights'] = [\"Error occurred while getting age-specific insights.\"]\n",
    "\n",
    "    try:\n",
    "        results['gender_specific_insights'] = bn.get_gender_specific_insights()\n",
    "    except Exception as e:\n",
    "        logger.error(f\"Error getting gender-specific insights: {str(e)}\", exc_info=True)\n",
    "        results['gender_specific_insights'] = [\"Error occurred while getting gender-specific insights.\"]\n",
    "\n",
    "    results['summary'] = bn.summarize_key_findings()\n",
    "\n",
    "    try:\n",
    "        results['model_performance'] = {\n",
    "            'accuracy': bn.get_accuracy(),\n",
    "            'precision': bn.get_precision(),\n",
    "            'recall': bn.get_recall()\n",
    "        }\n",
    "    except Exception as e:\n",
    "        logger.error(f\"Error calculating model performance: {str(e)}\", exc_info=True)\n",
    "        results['model_performance'] = {\n",
    "            'accuracy': 0.0,\n",
    "            'precision': 0.0,\n",
    "            'recall': 0.0\n",
    "        }\n",
    "\n",
    "    timestamp = datetime.now().strftime(\"%Y%m%d_%H%M%S\")\n",
    "    results_filename = f\"bayesian_network_results_{timestamp}.json\"\n",
    "    summary_filename = f\"bayesian_network_summary_{timestamp}.json\"\n",
    "\n",
    "    try:\n",
    "        bn.write_results_to_json(results, filename=results_filename)\n",
    "        logger.info(f\"Detailed results saved to {results_filename}\")\n",
    "    except Exception as e:\n",
    "        logger.error(f\"Error writing detailed results: {str(e)}\", exc_info=True)\n",
    "\n",
    "    try:\n",
    "        bn.write_summary_to_json(results, filename=summary_filename)\n",
    "        logger.info(f\"Summary results saved to {summary_filename}\")\n",
    "    except Exception as e:\n",
    "        logger.error(f\"Error writing summary results: {str(e)}\", exc_info=True)\n",
    "\n",
    "else:\n",
    "    logger.error(\"Bayesian Network fitting failed. Unable to perform analysis.\")"
   ]
  },
  {
   "cell_type": "code",
   "execution_count": 6,
   "metadata": {},
   "outputs": [],
   "source": [
    "#import networkx as nx\n",
    "#import matplotlib.pyplot as plt\n",
    "\n",
    "#def visualize_network(self):\n",
    "#    G = nx.DiGraph()\n",
    "#   for node, parents in self.nodes.items():\n",
    "#        for parent in parents:\n",
    "#            G.add_edge(parent.name, node)\n",
    "    \n",
    "#    plt.figure(figsize=(12, 8))\n",
    "#    pos = nx.spring_layout(G)\n",
    "#    nx.draw(G, pos, with_labels=True, node_color='lightblue', node_size=500, font_size=8, arrows=True)\n",
    "#    plt.title(\"Bayesian Network Structure\")\n",
    "#    plt.show()"
   ]
  },
  {
   "cell_type": "code",
   "execution_count": null,
   "metadata": {},
   "outputs": [],
   "source": []
  }
 ],
 "metadata": {
  "kernelspec": {
   "display_name": ".venv",
   "language": "python",
   "name": "python3"
  },
  "language_info": {
   "codemirror_mode": {
    "name": "ipython",
    "version": 3
   },
   "file_extension": ".py",
   "mimetype": "text/x-python",
   "name": "python",
   "nbconvert_exporter": "python",
   "pygments_lexer": "ipython3",
   "version": "3.12.1"
  }
 },
 "nbformat": 4,
 "nbformat_minor": 2
}
