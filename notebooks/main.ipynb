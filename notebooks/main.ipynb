{
 "cells": [
  {
   "cell_type": "code",
   "execution_count": 1,
   "metadata": {},
   "outputs": [],
   "source": [
    "import sys\n",
    "import os\n",
    "\n",
    "# Add the parent directory to sys.path\n",
    "notebook_dir = os.path.abspath('')\n",
    "project_dir = os.path.dirname(notebook_dir)\n",
    "sys.path.append(project_dir)\n",
    "\n",
    "import pandas as pd\n",
    "import numpy as np\n",
    "import matplotlib.pyplot as plt\n",
    "import logging\n",
    "from scipy import stats\n",
    "import networkx as nx\n",
    "import json\n",
    "from pgmpy.estimators import PC\n",
    "from pgmpy.models import BayesianNetwork as PgmpyBN\n",
    "from pgmpy.estimators import BayesianEstimator\n",
    "from pgmpy.inference import VariableElimination\n",
    "from datetime import datetime\n",
    "\n",
    "from src.bayesian_network import BayesianNetwork\n",
    "from src.bayesian_node import BayesianNode, CategoricalNode\n",
    "\n",
    "logging.basicConfig(level=logging.INFO)\n",
    "\n",
    "pd.set_option('display.max_columns', None)\n",
    "pd.set_option('display.max_rows', None)\n",
    "\n",
    "from src.data_processing import prepare_data"
   ]
  },
  {
   "cell_type": "code",
   "execution_count": 2,
   "metadata": {},
   "outputs": [],
   "source": [
    "import os\n",
    "import sys\n",
    "from dotenv import load_dotenv\n",
    "load_dotenv()\n",
    "\n",
    "# Determine environment and data path\n",
    "environment = os.getenv('ENVIRONMENT', 'local')\n",
    "data_path = os.getenv('LOCAL_DATA_PATH') if environment == 'local' else os.getenv('CLOUD_DATA_PATH')\n",
    "\n",
    "# File paths\n",
    "behavioral_path = os.path.join(data_path, 'connectome_behavioral.csv')\n",
    "hcp_path = os.path.join(data_path, 'hcp_freesurfer.csv')"
   ]
  },
  {
   "cell_type": "code",
   "execution_count": 3,
   "metadata": {},
   "outputs": [],
   "source": [
    "behavioral_features = [\n",
    "    'Subject', 'Age', 'Gender', 'CogFluidComp_Unadj', 'CogCrystalComp_Unadj', 'MMSE_Score',\n",
    "    'NEOFAC_O', 'NEOFAC_C'\n",
    "]\n",
    "\n",
    "hcp_features = [\n",
    "    'Subject', 'FS_Total_GM_Vol', 'FS_Tot_WM_Vol',\n",
    "    'FS_L_Hippo_Vol', 'FS_R_Hippo_Vol',\n",
    "    'FS_L_Amygdala_Vol', 'FS_R_Amygdala_Vol'\n",
    "]\n",
    "\n",
    "categorical_columns = ['Gender']\n",
    "\n",
    "categorical_columns_hcp = ['Gender', 'MMSE_Score', 'Age']\n",
    "\n",
    "prior_edges = [\n",
    "    ('Age', 'CogFluidComp_Unadj'),\n",
    "    ('Age', 'CogCrystalComp_Unadj'),\n",
    "    ('Gender', 'CogFluidComp_Unadj'),\n",
    "    ('Gender', 'CogCrystalComp_Unadj'),\n",
    "    ('FS_Total_GM_Vol', 'CogFluidComp_Unadj'),\n",
    "    ('FS_Total_GM_Vol', 'CogCrystalComp_Unadj'),\n",
    "    ('FS_L_Hippo_Vol', 'CogFluidComp_Unadj'),\n",
    "    ('FS_R_Hippo_Vol', 'CogFluidComp_Unadj'),\n",
    "    ('NEOFAC_O', 'CogCrystalComp_Unadj'),\n",
    "    ('NEOFAC_C', 'CogFluidComp_Unadj'),\n",
    "]"
   ]
  },
  {
   "cell_type": "code",
   "execution_count": 4,
   "metadata": {},
   "outputs": [
    {
     "name": "stdout",
     "output_type": "stream",
     "text": [
      "{'Gender': [0, 1], 'MMSE_Score': [23, 24, 26, 27, 28, 29, 30], 'Age': [0, 1, 2, 3]}\n"
     ]
    }
   ],
   "source": [
    "data, categorical_columns, categories = prepare_data(\n",
    "    behavioral_path=behavioral_path,\n",
    "    hcp_path=hcp_path,\n",
    "    behavioral_features=behavioral_features,\n",
    "    hcp_features=hcp_features,\n",
    "    categorical_columns=categorical_columns_hcp\n",
    "    )\n",
    "data = data[:150]\n",
    "print(categories)\n"
   ]
  },
  {
   "cell_type": "code",
   "execution_count": 5,
   "metadata": {},
   "outputs": [
    {
     "name": "stderr",
     "output_type": "stream",
     "text": [
      "INFO:src.bayesian_network:Learning structure\n",
      "INFO:src.structure_learning:Starting structure learning with max_parents=2, iterations=100\n"
     ]
    },
    {
     "data": {
      "application/vnd.jupyter.widget-view+json": {
       "model_id": "1ea01f38334a450097856bd33febe4d0",
       "version_major": 2,
       "version_minor": 0
      },
      "text/plain": [
       "  0%|          | 0/100 [00:00<?, ?it/s]"
      ]
     },
     "metadata": {},
     "output_type": "display_data"
    },
    {
     "name": "stderr",
     "output_type": "stream",
     "text": [
      "INFO:src.structure_learning:Structure learning complete. Learned 13 nodes and 10 edges.\n",
      "INFO:src.bayesian_network:Fitting parameters\n"
     ]
    },
    {
     "name": "stdout",
     "output_type": "stream",
     "text": [
      "Warning: Node CogFluidComp_Unadj has 6 parents. Limiting to 2.\n",
      "Warning: Node CogCrystalComp_Unadj has 4 parents. Limiting to 2.\n",
      "Fitting node: FS_Total_GM_Vol\n",
      "Node data shape: (150,)\n",
      "Parent data: None (no parents)\n",
      "Fitting node: FS_Tot_WM_Vol\n",
      "Node data shape: (150,)\n",
      "Parent data: None (no parents)\n",
      "Fitting node: FS_L_Hippo_Vol\n",
      "Node data shape: (150,)\n",
      "Parent data: None (no parents)\n",
      "Fitting node: FS_R_Hippo_Vol\n",
      "Node data shape: (150,)\n",
      "Parent data: None (no parents)\n",
      "Fitting node: FS_L_Amygdala_Vol\n",
      "Node data shape: (150,)\n",
      "Parent data: None (no parents)\n",
      "Fitting node: FS_R_Amygdala_Vol\n",
      "Node data shape: (150,)\n",
      "Parent data: None (no parents)\n",
      "Fitting node: Age\n",
      "Node data shape: (150,)\n",
      "Parent data: None (no parents)\n",
      "Fitting node: Gender\n",
      "Node data shape: (150,)\n",
      "Parent data: None (no parents)\n",
      "Fitting node: CogFluidComp_Unadj\n",
      "Node data shape: (150,)\n",
      "Parent data: Present\n",
      "X shape: (150, 2), y shape: (150,)\n",
      "X columns: Index(['FS_Total_GM_Vol', 'FS_L_Hippo_Vol'], dtype='object')\n",
      "y name: CogFluidComp_Unadj\n",
      "Fitting node: CogCrystalComp_Unadj\n",
      "Node data shape: (150,)\n",
      "Parent data: Present\n",
      "X shape: (150, 2), y shape: (150,)\n",
      "X columns: Index(['FS_Total_GM_Vol', 'Age'], dtype='object')\n",
      "y name: CogCrystalComp_Unadj\n",
      "Fitting node: MMSE_Score\n",
      "Node data shape: (150,)\n",
      "Parent data: None (no parents)\n",
      "Fitting node: NEOFAC_O\n",
      "Node data shape: (150,)\n",
      "Parent data: None (no parents)\n",
      "Fitting node: NEOFAC_C\n",
      "Node data shape: (150,)\n",
      "Parent data: None (no parents)\n",
      "Results saved to bayesian_network_results_20240723_234227.json\n",
      "\n",
      "Key Insights:\n",
      "- The top 3 predictors of CogFluidComp_Unadj are: MMSE_Score (sensitivity: 60.332), Age (sensitivity: 2.566), Gender (sensitivity: 0.888)\n",
      "- The top 3 predictors of CogCrystalComp_Unadj are: MMSE_Score (sensitivity: 30.763), Age (sensitivity: 2.287), Gender (sensitivity: 0.453)\n",
      "- Age directly influences: CogFluidComp_Unadj, CogCrystalComp_Unadj\n",
      "- Gender directly influences: CogFluidComp_Unadj, CogCrystalComp_Unadj\n",
      "- Key brain structure-cognition relationships: FS_Total_GM_Vol → CogFluidComp_Unadj, FS_L_Hippo_Vol → CogFluidComp_Unadj, FS_Total_GM_Vol → CogCrystalComp_Unadj\n"
     ]
    }
   ],
   "source": [
    "# Create and fit the Bayesian Network\n",
    "bn = BayesianNetwork(method='hill_climb', max_parents=2, iterations=100, categorical_columns=categorical_columns)\n",
    "bn.fit(data, prior_edges=prior_edges)\n",
    "\n",
    "# Analyze the network\n",
    "results = {}\n",
    "results['network_structure'] = bn.explain_structure_extended()\n",
    "\n",
    "# Compute sensitivity for cognitive measures\n",
    "cognitive_measures = ['CogFluidComp_Unadj', 'CogCrystalComp_Unadj']\n",
    "sensitivity = {}\n",
    "for measure in cognitive_measures:\n",
    "    sensitivity[measure] = bn.compute_sensitivity(measure)\n",
    "results['sensitivity'] = sensitivity\n",
    "\n",
    "# Generate insights\n",
    "insights = []\n",
    "\n",
    "# Insight 1: Strongest predictors of cognitive performance\n",
    "for measure in cognitive_measures:\n",
    "    top_predictors = sorted(sensitivity[measure].items(), key=lambda x: abs(x[1]), reverse=True)[:3]\n",
    "    insight = f\"The top 3 predictors of {measure} are: \"\n",
    "    insight += \", \".join([f\"{pred} (sensitivity: {sens:.3f})\" for pred, sens in top_predictors])\n",
    "    insights.append(insight)\n",
    "\n",
    "# Insight 2: Age-related effects\n",
    "age_effects = bn.nodes['Age'].children\n",
    "age_insight = \"Age directly influences: \" + \", \".join([child.name for child in age_effects])\n",
    "insights.append(age_insight)\n",
    "\n",
    "# Insight 3: Gender differences\n",
    "gender_effects = bn.nodes['Gender'].children\n",
    "gender_insight = \"Gender directly influences: \" + \", \".join([child.name for child in gender_effects])\n",
    "insights.append(gender_insight)\n",
    "\n",
    "# Insight 4: Brain structure and cognition\n",
    "brain_cognition_edges = [edge for edge in bn.get_edges() if (edge[0].startswith('FS_') and edge[1] in cognitive_measures)]\n",
    "brain_cognition_insight = \"Key brain structure-cognition relationships: \" + \", \".join([f\"{edge[0]} → {edge[1]}\" for edge in brain_cognition_edges])\n",
    "insights.append(brain_cognition_insight)\n",
    "\n",
    "results['insights'] = insights\n",
    "\n",
    "# Save results to JSON\n",
    "timestamp = datetime.now().strftime(\"%Y%m%d_%H%M%S\")\n",
    "filename = f\"bayesian_network_results_{timestamp}.json\"\n",
    "\n",
    "with open(filename, 'w') as f:\n",
    "    json.dump(results, f, indent=2)\n",
    "\n",
    "print(f\"Results saved to {filename}\")\n",
    "\n",
    "# Print insights for immediate review\n",
    "print(\"\\nKey Insights:\")\n",
    "for insight in insights:\n",
    "    print(\"- \" + insight)"
   ]
  },
  {
   "cell_type": "code",
   "execution_count": null,
   "metadata": {},
   "outputs": [],
   "source": []
  },
  {
   "cell_type": "code",
   "execution_count": null,
   "metadata": {},
   "outputs": [],
   "source": []
  }
 ],
 "metadata": {
  "kernelspec": {
   "display_name": ".venv",
   "language": "python",
   "name": "python3"
  },
  "language_info": {
   "codemirror_mode": {
    "name": "ipython",
    "version": 3
   },
   "file_extension": ".py",
   "mimetype": "text/x-python",
   "name": "python",
   "nbconvert_exporter": "python",
   "pygments_lexer": "ipython3",
   "version": "3.12.1"
  }
 },
 "nbformat": 4,
 "nbformat_minor": 2
}
