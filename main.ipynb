{
 "cells": [
  {
   "cell_type": "code",
   "execution_count": 13,
   "metadata": {},
   "outputs": [],
   "source": [
    "import numpy as np\n",
    "import pandas as pd\n",
    "from scipy import stats\n",
    "from src.bayesian_network import BayesianNetwork"
   ]
  },
  {
   "cell_type": "code",
   "execution_count": 14,
   "metadata": {},
   "outputs": [],
   "source": [
    "# Generate synthetic data\n",
    "def generate_synthetic_data(n_samples=5000):\n",
    "    A = np.random.normal(0, 1, n_samples)\n",
    "    B = 0.5 * A + np.random.normal(0, 0.5, n_samples)\n",
    "    C = 0.3 * A + 0.7 * B + np.random.normal(0, 0.3, n_samples)\n",
    "    return pd.DataFrame({'A': A, 'B': B, 'C': C})\n",
    "\n",
    "# Generate data\n",
    "data = generate_synthetic_data()\n",
    "\n",
    "# Create network\n",
    "network = BayesianNetwork()"
   ]
  },
  {
   "cell_type": "code",
   "execution_count": 15,
   "metadata": {},
   "outputs": [
    {
     "name": "stdout",
     "output_type": "stream",
     "text": [
      "Fitting network...\n",
      "Training network...\n"
     ]
    },
    {
     "name": "stderr",
     "output_type": "stream",
     "text": [
      "Training Network: 100%|██████████| 1000/1000 [00:43<00:00, 22.93it/s]\n"
     ]
    },
    {
     "name": "stdout",
     "output_type": "stream",
     "text": [
      "\n",
      "Evaluating network...\n",
      "Test log-likelihood: -16558.63783538337\n",
      "Cross-validation: Mean LL = -3313.6317140225447, Std = 45.191569333555215\n"
     ]
    }
   ],
   "source": [
    "# Fit the network (this should create and connect nodes internally)\n",
    "print(\"Fitting network...\")\n",
    "network.fit(data)\n",
    "\n",
    "# Train network (if needed, depending on your implementation)\n",
    "print(\"Training network...\")\n",
    "network.train(data, iterations=1000)\n",
    "\n",
    "# Evaluate\n",
    "print(\"\\nEvaluating network...\")\n",
    "test_ll = network.log_likelihood(data)\n",
    "cv_mean, cv_std = network.k_fold_cross_validation(data)  # Remove 'network' as the first argument\n",
    "\n",
    "print(f\"Test log-likelihood: {test_ll}\")\n",
    "print(f\"Cross-validation: Mean LL = {cv_mean}, Std = {cv_std}\")\n"
   ]
  },
  {
   "cell_type": "code",
   "execution_count": 21,
   "metadata": {},
   "outputs": [
    {
     "name": "stdout",
     "output_type": "stream",
     "text": [
      "Error: BayesianNetwork.sample_node() got multiple values for argument 'size'\n"
     ]
    }
   ],
   "source": [
    "def test_sample_node():\n",
    "    bn = BayesianNetwork()\n",
    "    bn._create_nodes(pd.DataFrame({'A': [1, 2, 3], 'B': [4, 5, 6]}))  # Create test nodes\n",
    "    bn.nodes['A'].set_distribution(stats.norm(loc=0, scale=1))\n",
    "    bn.nodes['B'].set_distribution(stats.norm(loc=0, scale=1))\n",
    "\n",
    "    try:\n",
    "        print(bn.sample_node('A', size=5))\n",
    "    except Exception as e:\n",
    "        print(f\"Error: {e}\")\n",
    "\n",
    "test_sample_node()"
   ]
  },
  {
   "cell_type": "code",
   "execution_count": 20,
   "metadata": {},
   "outputs": [
    {
     "name": "stderr",
     "output_type": "stream",
     "text": [
      "ERROR:root:Error in sensitivity analysis for node A: BayesianNetwork.sample_node() takes from 1 to 2 positional arguments but 3 were given\n",
      "ERROR:root:Error in sensitivity analysis for node B: BayesianNetwork.sample_node() takes from 1 to 2 positional arguments but 3 were given\n"
     ]
    },
    {
     "name": "stdout",
     "output_type": "stream",
     "text": [
      "\n",
      "Performing sensitivity analysis...\n",
      "Sensitivity Analysis: {}\n",
      "\n",
      "Sampling from the network...\n",
      "Calling sample_node for A with 1000 samples\n"
     ]
    },
    {
     "ename": "TypeError",
     "evalue": "BayesianNetwork.sample_node() got multiple values for argument 'size'",
     "output_type": "error",
     "traceback": [
      "\u001b[0;31m---------------------------------------------------------------------------\u001b[0m",
      "\u001b[0;31mTypeError\u001b[0m                                 Traceback (most recent call last)",
      "\u001b[1;32m/Users/macbookair/Documents/bayesian_dataclass/main.ipynb Cell 4\u001b[0m line \u001b[0;36m1\n\u001b[1;32m      <a href='vscode-notebook-cell:/Users/macbookair/Documents/bayesian_dataclass/main.ipynb#W2sZmlsZQ%3D%3D?line=8'>9</a>\u001b[0m \u001b[39mfor\u001b[39;00m node_name \u001b[39min\u001b[39;00m network\u001b[39m.\u001b[39mnodes:\n\u001b[1;32m     <a href='vscode-notebook-cell:/Users/macbookair/Documents/bayesian_dataclass/main.ipynb#W2sZmlsZQ%3D%3D?line=9'>10</a>\u001b[0m     \u001b[39mprint\u001b[39m(\u001b[39mf\u001b[39m\u001b[39m\"\u001b[39m\u001b[39mCalling sample_node for \u001b[39m\u001b[39m{\u001b[39;00mnode_name\u001b[39m}\u001b[39;00m\u001b[39m with 1000 samples\u001b[39m\u001b[39m\"\u001b[39m)\n\u001b[0;32m---> <a href='vscode-notebook-cell:/Users/macbookair/Documents/bayesian_dataclass/main.ipynb#W2sZmlsZQ%3D%3D?line=10'>11</a>\u001b[0m     samples[node_name] \u001b[39m=\u001b[39m network\u001b[39m.\u001b[39;49msample_node(node_name, size\u001b[39m=\u001b[39;49m\u001b[39m1000\u001b[39;49m)  \u001b[39m# Ensure correct argument usage\u001b[39;00m\n\u001b[1;32m     <a href='vscode-notebook-cell:/Users/macbookair/Documents/bayesian_dataclass/main.ipynb#W2sZmlsZQ%3D%3D?line=11'>12</a>\u001b[0m \u001b[39mfor\u001b[39;00m node_name, sample \u001b[39min\u001b[39;00m samples\u001b[39m.\u001b[39mitems():\n\u001b[1;32m     <a href='vscode-notebook-cell:/Users/macbookair/Documents/bayesian_dataclass/main.ipynb#W2sZmlsZQ%3D%3D?line=12'>13</a>\u001b[0m     \u001b[39mprint\u001b[39m(\u001b[39mf\u001b[39m\u001b[39m\"\u001b[39m\u001b[39m{\u001b[39;00mnode_name\u001b[39m}\u001b[39;00m\u001b[39m: mean = \u001b[39m\u001b[39m{\u001b[39;00mnp\u001b[39m.\u001b[39mmean(sample)\u001b[39m:\u001b[39;00m\u001b[39m.4f\u001b[39m\u001b[39m}\u001b[39;00m\u001b[39m, std = \u001b[39m\u001b[39m{\u001b[39;00mnp\u001b[39m.\u001b[39mstd(sample)\u001b[39m:\u001b[39;00m\u001b[39m.4f\u001b[39m\u001b[39m}\u001b[39;00m\u001b[39m\"\u001b[39m)\n",
      "\u001b[0;31mTypeError\u001b[0m: BayesianNetwork.sample_node() got multiple values for argument 'size'"
     ]
    }
   ],
   "source": [
    "# Sensitivity analysis\n",
    "print(\"\\nPerforming sensitivity analysis...\")\n",
    "sensitivity = network.sensitivity_analysis('C')\n",
    "print(\"Sensitivity Analysis:\", sensitivity)\n",
    "\n",
    "# Sample from the network\n",
    "print(\"\\nSampling from the network...\")\n",
    "samples = {}\n",
    "for node_name in network.nodes:\n",
    "    print(f\"Calling sample_node for {node_name} with 1000 samples\")\n",
    "    samples[node_name] = network.sample_node(node_name, size=1000)\n",
    "for node_name, sample in samples.items():\n",
    "    print(f\"{node_name}: mean = {np.mean(sample):.4f}, std = {np.std(sample):.4f}\")\n"
   ]
  },
  {
   "cell_type": "code",
   "execution_count": null,
   "metadata": {},
   "outputs": [],
   "source": [
    "\n",
    "# Compute feature importance\n",
    "print(\"\\nComputing feature importance...\")\n",
    "importance = network.feature_importance('C')\n",
    "print(\"Feature Importance:\", importance)\n",
    "\n",
    "# Explain structure\n",
    "print(\"\\nExplaining network structure...\")\n",
    "structure = network.explain_structure()\n",
    "print(\"Network Structure:\", structure)"
   ]
  },
  {
   "cell_type": "code",
   "execution_count": null,
   "metadata": {},
   "outputs": [],
   "source": [
    "# Explain prediction\n",
    "print(\"\\nExplaining prediction...\")\n",
    "observation = {'A': 0.5, 'B': 0.7}\n",
    "explanation = network.explain_prediction('C', observation)\n",
    "print(explanation)\n",
    "\n",
    "# Compute marginal effect\n",
    "print(\"\\nComputing marginal effect...\")\n",
    "marginal_effect = network.marginal_effect('C', 'A')\n",
    "print(\"Marginal effect of A on C:\")\n",
    "print(marginal_effect)\n",
    "\n",
    "print(\"\\nBayesian Network analysis complete!\")"
   ]
  }
 ],
 "metadata": {
  "kernelspec": {
   "display_name": ".venv",
   "language": "python",
   "name": "python3"
  },
  "language_info": {
   "codemirror_mode": {
    "name": "ipython",
    "version": 3
   },
   "file_extension": ".py",
   "mimetype": "text/x-python",
   "name": "python",
   "nbconvert_exporter": "python",
   "pygments_lexer": "ipython3",
   "version": "3.12.1"
  }
 },
 "nbformat": 4,
 "nbformat_minor": 2
}
