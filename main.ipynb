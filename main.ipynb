{
 "cells": [
  {
   "cell_type": "code",
   "execution_count": 2,
   "metadata": {},
   "outputs": [],
   "source": [
    "from src.bayesian_network import BayesianNetwork\n",
    "from src.main import generate_synthetic_data\n",
    "from scipy import stats"
   ]
  },
  {
   "cell_type": "code",
   "execution_count": 3,
   "metadata": {},
   "outputs": [
    {
     "ename": "AttributeError",
     "evalue": "'BayesianNetwork' object has no attribute 'add_node'",
     "output_type": "error",
     "traceback": [
      "\u001b[0;31m---------------------------------------------------------------------------\u001b[0m",
      "\u001b[0;31mAttributeError\u001b[0m                            Traceback (most recent call last)",
      "\u001b[1;32m/Users/macbookair/Documents/bayesian_dataclass/main.ipynb Cell 2\u001b[0m line \u001b[0;36m9\n\u001b[1;32m      <a href='vscode-notebook-cell:/Users/macbookair/Documents/bayesian_dataclass/main.ipynb#W1sZmlsZQ%3D%3D?line=4'>5</a>\u001b[0m network \u001b[39m=\u001b[39m BayesianNetwork()\n\u001b[1;32m      <a href='vscode-notebook-cell:/Users/macbookair/Documents/bayesian_dataclass/main.ipynb#W1sZmlsZQ%3D%3D?line=6'>7</a>\u001b[0m kcv \u001b[39m=\u001b[39m BayesianNetwork\u001b[39m.\u001b[39mk_fold_cross_validation(network, data)\n\u001b[0;32m----> <a href='vscode-notebook-cell:/Users/macbookair/Documents/bayesian_dataclass/main.ipynb#W1sZmlsZQ%3D%3D?line=8'>9</a>\u001b[0m network\u001b[39m.\u001b[39;49madd_node(\u001b[39m'\u001b[39m\u001b[39mA\u001b[39m\u001b[39m'\u001b[39m, distribution\u001b[39m=\u001b[39mstats\u001b[39m.\u001b[39mnorm(\u001b[39m0\u001b[39m, \u001b[39m1\u001b[39m))\n\u001b[1;32m     <a href='vscode-notebook-cell:/Users/macbookair/Documents/bayesian_dataclass/main.ipynb#W1sZmlsZQ%3D%3D?line=9'>10</a>\u001b[0m network\u001b[39m.\u001b[39madd_node(\u001b[39m'\u001b[39m\u001b[39mB\u001b[39m\u001b[39m'\u001b[39m, parents\u001b[39m=\u001b[39m[\u001b[39m'\u001b[39m\u001b[39mA\u001b[39m\u001b[39m'\u001b[39m], distribution\u001b[39m=\u001b[39m\u001b[39mlambda\u001b[39;00m a: stats\u001b[39m.\u001b[39mnorm(\u001b[39m0.5\u001b[39m \u001b[39m*\u001b[39m a, \u001b[39m0.5\u001b[39m))\n\u001b[1;32m     <a href='vscode-notebook-cell:/Users/macbookair/Documents/bayesian_dataclass/main.ipynb#W1sZmlsZQ%3D%3D?line=10'>11</a>\u001b[0m network\u001b[39m.\u001b[39madd_node(\u001b[39m'\u001b[39m\u001b[39mC\u001b[39m\u001b[39m'\u001b[39m, parents\u001b[39m=\u001b[39m[\u001b[39m'\u001b[39m\u001b[39mA\u001b[39m\u001b[39m'\u001b[39m, \u001b[39m'\u001b[39m\u001b[39mB\u001b[39m\u001b[39m'\u001b[39m], distribution\u001b[39m=\u001b[39m\u001b[39mlambda\u001b[39;00m a, b: stats\u001b[39m.\u001b[39mnorm(\u001b[39m0.3\u001b[39m \u001b[39m*\u001b[39m a \u001b[39m+\u001b[39m \u001b[39m0.7\u001b[39m \u001b[39m*\u001b[39m b, \u001b[39m0.3\u001b[39m))\n",
      "\u001b[0;31mAttributeError\u001b[0m: 'BayesianNetwork' object has no attribute 'add_node'"
     ]
    }
   ],
   "source": [
    "\n",
    "# Generate data\n",
    "data = generate_synthetic_data()\n",
    "\n",
    "# Create and train network\n",
    "network = BayesianNetwork()\n",
    "\n",
    "kcv = BayesianNetwork.k_fold_cross_validation(network, data)\n",
    "\n",
    "network.add_node('A', distribution=stats.norm(0, 1))\n",
    "network.add_node('B', parents=['A'], distribution=lambda a: stats.norm(0.5 * a, 0.5))\n",
    "network.add_node('C', parents=['A', 'B'], distribution=lambda a, b: stats.norm(0.3 * a + 0.7 * b, 0.3))\n",
    "\n",
    "network.train(data, iterations=1000)\n",
    "\n",
    "# Evaluate\n",
    "test_ll = network.log_likelihood(data)\n",
    "cv_mean, cv_std = kcv(network, data)\n",
    "\n",
    "# Sensitivity analysis\n",
    "sensitivity = network.sensitivity_analysis('C')\n",
    "\n",
    "print(f\"Test log-likelihood: {test_ll}\")\n",
    "print(f\"Cross-validation: Mean LL = {cv_mean}, Std = {cv_std}\")\n",
    "print(\"Sensitivity Analysis:\", sensitivity)"
   ]
  },
  {
   "cell_type": "code",
   "execution_count": null,
   "metadata": {},
   "outputs": [],
   "source": []
  }
 ],
 "metadata": {
  "kernelspec": {
   "display_name": ".venv",
   "language": "python",
   "name": "python3"
  },
  "language_info": {
   "codemirror_mode": {
    "name": "ipython",
    "version": 3
   },
   "file_extension": ".py",
   "mimetype": "text/x-python",
   "name": "python",
   "nbconvert_exporter": "python",
   "pygments_lexer": "ipython3",
   "version": "3.12.1"
  }
 },
 "nbformat": 4,
 "nbformat_minor": 2
}
