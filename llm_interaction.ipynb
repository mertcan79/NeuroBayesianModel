{
 "cells": [
  {
   "cell_type": "code",
   "execution_count": 18,
   "metadata": {},
   "outputs": [],
   "source": [
    "import pandas as pd\n",
    "import numpy as np\n",
    "from sklearn.model_selection import train_test_split\n",
    "from src.bayesian_network import BayesianNetwork\n"
   ]
  },
  {
   "cell_type": "code",
   "execution_count": 19,
   "metadata": {},
   "outputs": [],
   "source": [
    "import pandas as pd\n",
    "\n",
    "# Load the dataset\n",
    "url = \"https://raw.githubusercontent.com/jbrownlee/Datasets/master/pima-indians-diabetes.data.csv\"\n",
    "columns = ['Pregnancies', 'Glucose', 'BloodPressure', 'SkinThickness', 'Insulin', 'BMI', 'DiabetesPedigreeFunction', 'Age', 'Outcome']\n",
    "data = pd.read_csv(url, names=columns)\n",
    "\n",
    "from sklearn.model_selection import train_test_split\n",
    "\n",
    "train_data, test_data = train_test_split(data, test_size=0.2, random_state=42)\n"
   ]
  },
  {
   "cell_type": "code",
   "execution_count": 20,
   "metadata": {},
   "outputs": [
    {
     "ename": "TypeError",
     "evalue": "BayesianNetwork.__init__() got an unexpected keyword argument 'categorical_columns'",
     "output_type": "error",
     "traceback": [
      "\u001b[0;31m---------------------------------------------------------------------------\u001b[0m",
      "\u001b[0;31mTypeError\u001b[0m                                 Traceback (most recent call last)",
      "\u001b[1;32m/Users/macbookair/Documents/bayesian_dataclass/main.ipynb Cell 3\u001b[0m line \u001b[0;36m2\n\u001b[1;32m      <a href='vscode-notebook-cell:/Users/macbookair/Documents/bayesian_dataclass/main.ipynb#X14sZmlsZQ%3D%3D?line=0'>1</a>\u001b[0m categorical_columns \u001b[39m=\u001b[39m [\u001b[39m'\u001b[39m\u001b[39mOutcome\u001b[39m\u001b[39m'\u001b[39m]\n\u001b[0;32m----> <a href='vscode-notebook-cell:/Users/macbookair/Documents/bayesian_dataclass/main.ipynb#X14sZmlsZQ%3D%3D?line=1'>2</a>\u001b[0m bn \u001b[39m=\u001b[39m BayesianNetwork(method\u001b[39m=\u001b[39;49m\u001b[39m'\u001b[39;49m\u001b[39mhill_climb\u001b[39;49m\u001b[39m'\u001b[39;49m, max_parents\u001b[39m=\u001b[39;49m\u001b[39m3\u001b[39;49m, categorical_columns\u001b[39m=\u001b[39;49mcategorical_columns)\n\u001b[1;32m      <a href='vscode-notebook-cell:/Users/macbookair/Documents/bayesian_dataclass/main.ipynb#X14sZmlsZQ%3D%3D?line=3'>4</a>\u001b[0m \u001b[39mtry\u001b[39;00m:\n\u001b[1;32m      <a href='vscode-notebook-cell:/Users/macbookair/Documents/bayesian_dataclass/main.ipynb#X14sZmlsZQ%3D%3D?line=4'>5</a>\u001b[0m     \u001b[39m# Fit the model\u001b[39;00m\n\u001b[1;32m      <a href='vscode-notebook-cell:/Users/macbookair/Documents/bayesian_dataclass/main.ipynb#X14sZmlsZQ%3D%3D?line=5'>6</a>\u001b[0m     bn\u001b[39m.\u001b[39mfit(train_data)\n",
      "\u001b[0;31mTypeError\u001b[0m: BayesianNetwork.__init__() got an unexpected keyword argument 'categorical_columns'"
     ]
    }
   ],
   "source": [
    "categorical_columns = ['Outcome']\n",
    "bn = BayesianNetwork(method='hill_climb', max_parents=3, categorical_columns=categorical_columns)\n",
    "\n",
    "try:\n",
    "    # Fit the model\n",
    "    bn.fit(train_data)\n",
    "\n",
    "    # Evaluate the model\n",
    "    test_ll = bn.log_likelihood(test_data)\n",
    "    print(f\"\\nTest log-likelihood: {test_ll:.4f}\")\n",
    "\n",
    "    # Cross-validation\n",
    "    mean_ll, std_ll = bn.cross_validate(data, k_folds=5)\n",
    "    print(f\"Cross-validation: Mean LL = {mean_ll:.4f}, Std = {std_ll:.4f}\")\n",
    "\n",
    "    # Compute sensitivity for the 'Outcome' variable\n",
    "    sensitivity = bn.compute_sensitivity('Outcome', num_samples=1000)\n",
    "    print(\"\\nSensitivity analysis for 'Outcome':\")\n",
    "    for node, value in sorted(sensitivity.items(), key=lambda x: x[1], reverse=True):\n",
    "        print(f\"Sensitivity to {node}: {value:.4f}\")\n",
    "\n",
    "    # Network structure\n",
    "    print(\"\\nNetwork structure:\")\n",
    "    if hasattr(bn, 'explain_structure'):\n",
    "        structure = bn.explain_structure()\n",
    "        for node, parents in structure.items():\n",
    "            print(f\"{node}: {parents}\")\n",
    "    else:\n",
    "        print(\"explain_structure method is not implemented\")\n",
    "\n",
    "except AttributeError as e:\n",
    "    print(f\"AttributeError: {e}\")\n",
    "    print(\"It seems that some methods are not implemented in the BayesianNetwork class.\")\n",
    "    print(\"Please ensure all required methods are properly implemented.\")\n",
    "\n",
    "except Exception as e:\n",
    "    print(f\"An error occurred: {e}\")"
   ]
  },
  {
   "cell_type": "code",
   "execution_count": null,
   "metadata": {},
   "outputs": [],
   "source": []
  }
 ],
 "metadata": {
  "kernelspec": {
   "display_name": ".venv",
   "language": "python",
   "name": "python3"
  },
  "language_info": {
   "codemirror_mode": {
    "name": "ipython",
    "version": 3
   },
   "file_extension": ".py",
   "mimetype": "text/x-python",
   "name": "python",
   "nbconvert_exporter": "python",
   "pygments_lexer": "ipython3",
   "version": "3.12.1"
  }
 },
 "nbformat": 4,
 "nbformat_minor": 2
}
