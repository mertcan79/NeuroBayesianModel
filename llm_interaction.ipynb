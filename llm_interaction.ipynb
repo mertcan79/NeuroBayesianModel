{
 "cells": [
  {
   "cell_type": "code",
   "execution_count": 1,
   "metadata": {},
   "outputs": [
    {
     "name": "stderr",
     "output_type": "stream",
     "text": [
      "/Users/macbookair/Documents/bayesian_dataclass/.venv/lib/python3.12/site-packages/tqdm/auto.py:21: TqdmWarning: IProgress not found. Please update jupyter and ipywidgets. See https://ipywidgets.readthedocs.io/en/stable/user_install.html\n",
      "  from .autonotebook import tqdm as notebook_tqdm\n"
     ]
    }
   ],
   "source": [
    "from sklearn.model_selection import train_test_split\n",
    "import pandas as pd\n",
    "import numpy as np\n",
    "from src.bayesian_network import BayesianNetwork"
   ]
  },
  {
   "cell_type": "code",
   "execution_count": 2,
   "metadata": {},
   "outputs": [],
   "source": [
    "# Create synthetic data\n",
    "np.random.seed(42)\n",
    "n_samples = 1000\n",
    "\n",
    "data = pd.DataFrame({\n",
    "    'age': [45, 30, 60, 50],\n",
    "    'gender': ['M', 'F', 'F', 'M'],\n",
    "    'socioeconomic_status': ['middle', 'low', 'high', 'middle'],\n",
    "    'location': ['urban', 'rural', 'urban', 'urban'],\n",
    "    'stress_level': ['high', 'low', 'medium', 'high'],\n",
    "    'diet_quality': ['average', 'poor', 'good', 'average'],\n",
    "    'exercise': ['regular', 'none', 'occasional', 'regular'],\n",
    "    'sleep_pattern': ['poor', 'good', 'average', 'poor'],\n",
    "    'smoking': ['yes', 'no', 'no', 'yes'],\n",
    "    'alcohol_consumption': ['moderate', 'none', 'high', 'moderate'],\n",
    "    'fatigue': [1, 0, 1, 1],\n",
    "    'fever': [1, 0, 1, 1],\n",
    "    'rash': [0, 0, 1, 0],\n",
    "    'previous_illnesses': ['none', 'asthma', 'diabetes', 'none'],\n",
    "    'unknown_illness_A': [1, 0, 0, 1],\n",
    "    'unknown_illness_B': [0, 1, 1, 0]\n",
    "})"
   ]
  },
  {
   "cell_type": "code",
   "execution_count": 3,
   "metadata": {},
   "outputs": [],
   "source": [
    "bn = BayesianNetwork(method='k2', max_parents=3, categorical_columns=['stress_level', 'diet_quality'])\n",
    "bn.fit(data)"
   ]
  },
  {
   "cell_type": "code",
   "execution_count": 4,
   "metadata": {},
   "outputs": [
    {
     "name": "stdout",
     "output_type": "stream",
     "text": [
      "Network structure: {'age': [], 'stress_level': ['age'], 'diet_quality': ['age'], 'fatigue': ['age'], 'fever': ['age'], 'rash': ['age'], 'unknown_illness_A': ['age'], 'unknown_illness_B': ['age']}\n",
      "Patient analysis: {'illness_A_probability': -0.3152652152016546, 'illness_B_probability': -1.9295821993795963, 'sensitivity_A': {'age': 0.657871733319209, 'stress_level': 0.4837814699104838, 'diet_quality': 0.4862129663185367, 'fatigue': 0.4836893131315003, 'fever': 0.4884747995870267, 'rash': 0.48736989504006806, 'unknown_illness_B': 0.4869557610506171}, 'sensitivity_B': {'age': 1.2761213866041436, 'stress_level': 0.9897594665431838, 'diet_quality': 1.001677395096315, 'fatigue': 0.9881040268209914, 'fever': 0.9983681368361375, 'rash': 0.9949741773230173, 'unknown_illness_A': 1.003297659070026}}\n"
     ]
    }
   ],
   "source": [
    "# Analyze the network structure\n",
    "structure = bn.explain_structure()\n",
    "print(\"Network structure:\", structure)\n",
    "\n",
    "# Create a function to analyze a patient\n",
    "def analyze_patient(age, stress_level, diet_quality, symptoms):\n",
    "    patient = pd.DataFrame({\n",
    "        'age': [age],\n",
    "        'stress_level': [stress_level],\n",
    "        'diet_quality': [diet_quality],\n",
    "        'fatigue': [1 if 'fatigue' in symptoms else 0],\n",
    "        'fever': [1 if 'fever' in symptoms else 0],\n",
    "        'rash': [1 if 'rash' in symptoms else 0]\n",
    "    })\n",
    "    \n",
    "    illness_A_prob = bn.sample_node('unknown_illness_A', size=1000).mean()\n",
    "    illness_B_prob = bn.sample_node('unknown_illness_B', size=1000).mean()\n",
    "    \n",
    "    sensitivity_A = bn.compute_sensitivity('unknown_illness_A')\n",
    "    sensitivity_B = bn.compute_sensitivity('unknown_illness_B')\n",
    "    \n",
    "    return {\n",
    "        'illness_A_probability': illness_A_prob,\n",
    "        'illness_B_probability': illness_B_prob,\n",
    "        'sensitivity_A': sensitivity_A,\n",
    "        'sensitivity_B': sensitivity_B\n",
    "    }\n",
    "\n",
    "# Example usage\n",
    "patient_analysis = analyze_patient(45, 'high', 'average', ['fatigue', 'fever'])\n",
    "print(\"Patient analysis:\", patient_analysis)"
   ]
  }
 ],
 "metadata": {
  "kernelspec": {
   "display_name": ".venv",
   "language": "python",
   "name": "python3"
  },
  "language_info": {
   "codemirror_mode": {
    "name": "ipython",
    "version": 3
   },
   "file_extension": ".py",
   "mimetype": "text/x-python",
   "name": "python",
   "nbconvert_exporter": "python",
   "pygments_lexer": "ipython3",
   "version": "3.12.1"
  }
 },
 "nbformat": 4,
 "nbformat_minor": 2
}
